{
 "cells": [
  {
   "cell_type": "code",
   "execution_count": 2,
   "id": "038c0063-1d47-42bb-bff6-e7c3d6b35a56",
   "metadata": {},
   "outputs": [],
   "source": [
    "from ndpi_tiler import NdpiTiler\n",
    "\n",
    "from ndpi_tiler import JpegHeader, JpegScan"
   ]
  },
  {
   "cell_type": "code",
   "execution_count": 3,
   "id": "8e1e69a5-c2fb-474a-8355-b012819040fa",
   "metadata": {},
   "outputs": [],
   "source": [
    "%load_ext autoreload\n",
    "%autoreload 2"
   ]
  },
  {
   "cell_type": "code",
   "execution_count": 4,
   "id": "0fbf15e8-9267-4bfd-a2c5-0a13bf8c90ac",
   "metadata": {},
   "outputs": [],
   "source": [
    "tiler = NdpiTiler(r'C:\\datasets\\AI-DRBR-001\\AI-DRBR-001_2523.ndpi')"
   ]
  },
  {
   "cell_type": "code",
   "execution_count": 19,
   "id": "66fdd6ea-c6d2-483a-a191-65c6924e4591",
   "metadata": {},
   "outputs": [
    {
     "data": {
      "image/png": "[encoded data removed]",
      "text/plain": [
       "<PIL.JpegImagePlugin.JpegImageFile image mode=RGB size=4096x8 at 0x2B7BFB15370>"
      ]
     },
     "execution_count": 19,
     "metadata": {},
     "output_type": "execute_result"
    }
   ],
   "source": [
    "tiler.stitch_tiles(0, 0, (0,0), (1,1))"
   ]
  },
  {
   "cell_type": "code",
   "execution_count": 59,
   "id": "2cfa140d-e7b9-4688-88e3-312018c17e87",
   "metadata": {},
   "outputs": [
    {
     "data": {
      "text/plain": [
       "'0b11111111'"
      ]
     },
     "execution_count": 59,
     "metadata": {},
     "output_type": "execute_result"
    }
   ],
   "source": [
    "bin(0xFF)"
   ]
  },
  {
   "cell_type": "code",
   "execution_count": 67,
   "id": "ffb0f612-69db-4f1f-bffa-e08d9fd6a8e8",
   "metadata": {},
   "outputs": [
    {
     "data": {
      "text/plain": [
       "125"
      ]
     },
     "execution_count": 67,
     "metadata": {},
     "output_type": "execute_result"
    }
   ],
   "source": [
    "len([9, 10, 22, 23, 24, 25, 26, 37, 38, 39, 40, 41, 42, 52, 53, 54, 55, 56, 57, 58, 67, 68, 69, 70, 71, 72, 73, 74, 83, 84, 85, 86, 87, 88, 89, 90, 99, 100, 101, 102, 103, 104, 105, 106, 115, 116, 117, 118, 119, 120, 121, 122, 131, 132, 133, 134, 135, 136, 137, 138, 146, 147, 148, 149, 150, 151, 152, 153, 154, 162, 163, 164, 165, 166, 167, 168, 169, 170, 178, 179, 180, 181, 182, 183, 184, 185, 186, 194, 195, 196, 197, 198, 199, 200, 201, 202, 210, 211, 212, 213, 214, 215, 216, 217, 218, 225, 226, 227, 228, 229, 230, 231, 232, 233, 234, 241, 242, 243, 244, 245, 246, 247, 248, 249, 250])"
   ]
  }
 ],
 "metadata": {
  "kernelspec": {
   "display_name": "Python 3",
   "language": "python",
   "name": "python3"
  },
  "language_info": {
   "codemirror_mode": {
    "name": "ipython",
    "version": 3
   },
   "file_extension": ".py",
   "mimetype": "text/x-python",
   "name": "python",
   "nbconvert_exporter": "python",
   "pygments_lexer": "ipython3",
   "version": "3.8.8"
  }
 },
 "nbformat": 4,
 "nbformat_minor": 5
}
