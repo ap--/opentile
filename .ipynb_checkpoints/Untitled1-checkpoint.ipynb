{
 "cells": [
  {
   "cell_type": "code",
   "execution_count": 22,
   "id": "35c57fd8-9f4c-45ca-a8a7-a717ac50e196",
   "metadata": {},
   "outputs": [],
   "source": [
    "from tifffile import TiffFile\n",
    "from PIL import Image\n",
    "import io\n",
    "\n"
   ]
  },
  {
   "cell_type": "code",
   "execution_count": 21,
   "id": "16b5d335-f4b8-41ab-b48b-b4fabfe45181",
   "metadata": {},
   "outputs": [
    {
     "name": "stdout",
     "output_type": "stream",
     "text": [
      "---\n",
      "TiffPageSeries 0  'Baseline'  86272x126976x3  uint8  YXS  NDPI  5 Levels  1 Pages\n",
      "TiffPageSeries 0  'Baseline'  86272x126976x3  uint8  YXS  NDPI  5 Levels  1 Pages\n",
      "TiffPage 0 @1176580748  86272x126976x3  uint8  ycbcr tiled jpeg ndpi\n",
      "TiffPageSeries 0  21568x31744x3  uint8  YXS  Generic  1 Pages\n",
      "TiffPage 1 @1277724092  21568x31744x3  uint8  ycbcr tiled jpeg ndpi\n",
      "TiffPageSeries 0  5392x7936x3  uint8  YXS  Generic  1 Pages\n",
      "TiffPage 2 @1284946073  5392x7936x3  uint8  ycbcr tiled jpeg ndpi\n",
      "TiffPageSeries 0  1348x1984x3  uint8  YXS  Generic  1 Pages\n",
      "TiffPage 3 @1285327817  1348x1984x3  uint8  ycbcr jpeg ndpi\n",
      "TiffPageSeries 0  337x496x3  uint8  YXS  Generic  1 Pages\n",
      "TiffPage 4 @1285349505  337x496x3  uint8  ycbcr jpeg ndpi\n",
      "---\n",
      "TiffPageSeries 1  'Macro'  409x1197x3  uint8  YXS  NDPI  1 Pages\n",
      "TiffPageSeries 1  'Macro'  409x1197x3  uint8  YXS  NDPI  1 Pages\n",
      "TiffPage 5 @1285402208  409x1197x3  uint8  ycbcr jpeg ndpi\n",
      "---\n",
      "TiffPageSeries 2  'Map'  204x598  uint8  YX  NDPI  1 Pages  @1285402714\n",
      "TiffPageSeries 2  'Map'  204x598  uint8  YX  NDPI  1 Pages  @1285402714\n",
      "TiffPage 6 @1285524706  204x598  uint8  minisblack ndpi memmappable\n",
      "tile width 4096 tile height 8\n",
      "tile width 1024 tile height 8\n",
      "tile width 256 tile height 8\n",
      "not tiled\n",
      "not tiled\n",
      "TiffPageSeries 0  'Baseline'  86272x126976x3  uint8  YXS  NDPI  5 Levels  1 Pages\n"
     ]
    },
    {
     "data": {
      "image/png": "[encoded data removed]",
      "text/plain": [
       "<PIL.Image.Image image mode=RGB size=4096x8 at 0x200A4467670>"
      ]
     },
     "execution_count": 21,
     "metadata": {},
     "output_type": "execute_result"
    }
   ],
   "source": [
    "def get_tile_byte_range(page, x, y):\n",
    "    rows = page.chunked[0]\n",
    "    cols = page.chunked[1]\n",
    "    frame = x + y * cols\n",
    "    offset = page.dataoffsets[frame]\n",
    "    count = page.databytecounts[frame]\n",
    "    return (offset, count)\n",
    "\n",
    "def read_bytes(file, offset, count):\n",
    "    file.seek(offset)\n",
    "    data = file.read(count)\n",
    "    return data\n",
    "\n",
    "\n",
    "def insert_header(tile_data, header):\n",
    "    with io.BytesIO() as buffer:\n",
    "        buffer.write(header)\n",
    "        buffer.write(tile_data)\n",
    "        return buffer.getvalue()\n",
    "    \n",
    "def get_encoded_tile_from_page(page, fh, x, y):\n",
    "    offset, count = get_tile_byte_range(page, x, y)\n",
    "    tile_data = read_bytes(fh, offset, count)\n",
    "    # print(page.jpegheader.hex())\n",
    "    # print(tile_data.hex())\n",
    "\n",
    "    if page.jpegheader is not None:\n",
    "        tile_data = insert_header(tile_data, page.jpegheader)\n",
    "    print(tile_data.hex())\n",
    "    return tile_data\n",
    "    \n",
    "def get_tile_from_page(page, fh, x, y):\n",
    "    tile_date = get_encoded_tile(page, fh, x, y)\n",
    "    image=Image.open(io.BytesIO(tile_data))\n",
    "    return image\n",
    "\n",
    "def get_encoded_tile(tif, series, level, page, x, y):\n",
    "    series_ = tif.series[series]\n",
    "    level_ = series_.levels[level]\n",
    "    page_ = level_.pages[page]\n",
    "    return get_encoded_tile_from_page(page_, tif.filehandle, x, y)     \n",
    "\n",
    "def print_image_info(image):\n",
    "    print(\"----------------------------\")\n",
    "    dicts = ['app', 'quantization', 'huffman_dc', 'huffman_ac']\n",
    "    for dict in dicts:\n",
    "        print(dict)\n",
    "        items = getattr(image, dict).items()\n",
    "        for item in items:\n",
    "            print(item)   \n",
    "\n",
    "    lists = ['layer', 'applist', 'icclist']\n",
    "    for list in lists:\n",
    "        print(list)\n",
    "        items = getattr(image, list)\n",
    "        for item in items:\n",
    "            print(item)  \n",
    "            \n",
    "def stitch_tiles(tif, series, level, page, pos, size):\n",
    "    tile_width = tif.series[series].levels[level].pages[page].tilewidth\n",
    "    tile_height = tif.series[series].levels[level].pages[page].tilelength \n",
    "\n",
    "    x_write_offset = 0\n",
    "    y_write_offset = 0\n",
    "    x_pos = pos[0]\n",
    "    y_pos = pos[1]\n",
    "    width = size[0]\n",
    "    height = size[1]\n",
    "    image_size = (width*tile_width, height*tile_height)\n",
    "    image = Image.new(mode='RGB', size=image_size)\n",
    "    for x in range(x_pos, x_pos+width):\n",
    "        for y in range(y_pos, y_pos+height):\n",
    "            tile_data = get_encoded_tile(tif, series, level, page, x, y)\n",
    "            tile_image=Image.open(io.BytesIO(tile_data))\n",
    "            image.paste(tile_image, (x_write_offset, y_write_offset))\n",
    "            y_write_offset += tile_height\n",
    "        y_write_offset = 0\n",
    "        x_write_offset += tile_width\n",
    "    return image\n",
    "\n",
    "            \n",
    "with TiffFile(r'C:\\datasets\\AI-DRBR-001\\AI-DRBR-001_2523.ndpi') as tif:\n",
    "    for series in tif.series:\n",
    "        print(\"---\")\n",
    "        print(series)\n",
    "        for level in series.levels:\n",
    "            print(level)\n",
    "            for page in level.pages:\n",
    "                print(page)\n",
    "    series = 0\n",
    "    level = 0\n",
    "    page = 0\n",
    "    pos = (0, 0)\n",
    "    size = (1, 1)\n",
    "    for level_ in tif.series[series].levels:\n",
    "        page_ = level_.pages[0]\n",
    "        # print(f\"jpeg tabels{page_.jpegtables}\" )\n",
    "        # print(page_.ndpi_tags)\n",
    "\n",
    "        if page_.is_tiled:\n",
    "            print(f\"tile width {page_.tilewidth} tile height {page_.tilelength}\")\n",
    "        else:\n",
    "            print(\"not tiled\")\n",
    "    print(tif.series[series].levels[level])\n",
    "    # image = stitch_tiles(tif, series, level, page, pos, size)\n",
    "    \n",
    "image"
   ]
  },
  {
   "cell_type": "code",
   "execution_count": 17,
   "id": "883bf6c9-2e98-4f4a-adbe-cc462a29487c",
   "metadata": {},
   "outputs": [
    {
     "name": "stdout",
     "output_type": "stream",
     "text": [
      "0\n",
      "1\n"
     ]
    }
   ],
   "source": [
    "for i in [0, 1]:\n",
    "    print(i)"
   ]
  },
  {
   "cell_type": "code",
   "execution_count": 19,
   "id": "7d8a9632-ee8c-45fb-a51e-d91f45b08b48",
   "metadata": {},
   "outputs": [
    {
     "name": "stdout",
     "output_type": "stream",
     "text": [
      "0\n",
      "1\n"
     ]
    }
   ],
   "source": [
    "for i in range(2):\n",
    "    print(i)"
   ]
  }
 ],
 "metadata": {
  "kernelspec": {
   "display_name": "Python 3",
   "language": "python",
   "name": "python3"
  },
  "language_info": {
   "codemirror_mode": {
    "name": "ipython",
    "version": 3
   },
   "file_extension": ".py",
   "mimetype": "text/x-python",
   "name": "python",
   "nbconvert_exporter": "python",
   "pygments_lexer": "ipython3",
   "version": "3.8.8"
  }
 },
 "nbformat": 4,
 "nbformat_minor": 5
}
