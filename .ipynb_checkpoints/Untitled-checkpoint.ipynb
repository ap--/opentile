{
 "cells": [
  {
   "cell_type": "code",
   "execution_count": 2,
   "id": "038c0063-1d47-42bb-bff6-e7c3d6b35a56",
   "metadata": {},
   "outputs": [],
   "source": [
    "from ndpi_tiler import NdpiTiler\n",
    "\n",
    "from ndpi_tiler import JpegHeader, JpegScan"
   ]
  },
  {
   "cell_type": "code",
   "execution_count": 93,
   "id": "8e1e69a5-c2fb-474a-8355-b012819040fa",
   "metadata": {},
   "outputs": [
    {
     "name": "stdout",
     "output_type": "stream",
     "text": [
      "The autoreload extension is already loaded. To reload it, use:\n",
      "  %reload_ext autoreload\n"
     ]
    }
   ],
   "source": [
    "%load_ext autoreload\n",
    "%autoreload 2"
   ]
  },
  {
   "cell_type": "code",
   "execution_count": null,
   "id": "0fbf15e8-9267-4bfd-a2c5-0a13bf8c90ac",
   "metadata": {},
   "outputs": [],
   "source": []
  }
 ],
 "metadata": {
  "kernelspec": {
   "display_name": "Python 3",
   "language": "python",
   "name": "python3"
  },
  "language_info": {
   "codemirror_mode": {
    "name": "ipython",
    "version": 3
   },
   "file_extension": ".py",
   "mimetype": "text/x-python",
   "name": "python",
   "nbconvert_exporter": "python",
   "pygments_lexer": "ipython3",
   "version": "3.8.8"
  }
 },
 "nbformat": 4,
 "nbformat_minor": 5
}
