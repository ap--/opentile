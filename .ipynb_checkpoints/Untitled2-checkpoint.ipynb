{
 "cells": [
  {
   "cell_type": "code",
   "execution_count": 42,
   "id": "3a36f648-492c-4954-9964-968a966f0a61",
   "metadata": {},
   "outputs": [],
   "source": [
    "from bitstring import ConstBitStream"
   ]
  },
  {
   "cell_type": "code",
   "execution_count": 137,
   "id": "20f55c90-5743-4627-9092-d95ab69f1a07",
   "metadata": {},
   "outputs": [
    {
     "name": "stdout",
     "output_type": "stream",
     "text": [
      "m\n",
      "a\n",
      " \n",
      "f\n"
     ]
    }
   ],
   "source": [
    "tables = [\n",
    "    [],\n",
    "    [],\n",
    "    ['e', None, 'a', None, None, None, None, ' '],\n",
    "    [None, None, 'n', None, None, None, 't', 'm', 'i', None, 'h', 's', None, 'f', None, None],\n",
    "    [None, None, None, None, None, None, 'o', 'u', None, None, None, None, 'x', 'p', None, None, None, None, 'r', 'l', None, None, None, None, None, None]\n",
    "\n",
    "]\n",
    "\n",
    "def decode(bits: ConstBitStream ) -> str:\n",
    "    position: int = 0\n",
    "    for level in tables:\n",
    "        b: int = bits.read('uint:1')\n",
    "        position = 2*position + int(b)\n",
    "        try:\n",
    "            if(level[position] is not None):\n",
    "                return level[position]\n",
    "        except IndexError:\n",
    "            pass\n",
    "        \n",
    "\n",
    "bit_stream = ConstBitStream (bin='01110101111101')\n",
    "while bit_stream.pos < len(bit_stream):\n",
    "    print(decode(bit_stream))\n",
    "\n",
    "# 1010\n",
    "# 1 -> 1\n",
    "# 0 -> 2 (2+0)\n",
    "# 1 -> 5 (4+1)\n",
    "# 0 -> 8 (8+0)\n",
    "\n",
    "# 11000\n",
    "# 1 -> 1 (0+1)\n",
    "# 1 -> 3 (2+1) (3-0) * 2 -> 6\n",
    "# 0 -> 6 (6+0) (6-1) * 2 -> 10\n",
    "# 0 -> 10 (10+0)  (10-1) * 2 -> 18\n",
    "# 0 -> 18 (18+0)\n"
   ]
  },
  {
   "cell_type": "code",
   "execution_count": null,
   "id": "94919945-0d28-448c-a823-54278377e910",
   "metadata": {},
   "outputs": [],
   "source": []
  }
 ],
 "metadata": {
  "kernelspec": {
   "display_name": "Python 3",
   "language": "python",
   "name": "python3"
  },
  "language_info": {
   "codemirror_mode": {
    "name": "ipython",
    "version": 3
   },
   "file_extension": ".py",
   "mimetype": "text/x-python",
   "name": "python",
   "nbconvert_exporter": "python",
   "pygments_lexer": "ipython3",
   "version": "3.8.8"
  }
 },
 "nbformat": 4,
 "nbformat_minor": 5
}
